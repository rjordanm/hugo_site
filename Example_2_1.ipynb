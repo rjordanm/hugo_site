{
  "cells": [
    {
      "cell_type": "markdown",
      "metadata": {
        "id": "view-in-github",
        "colab_type": "text"
      },
      "source": [
        "<a href=\"https://colab.research.google.com/github/rjordanm/hugo_site/blob/master/Example_2_1.ipynb\" target=\"_parent\"><img src=\"https://colab.research.google.com/assets/colab-badge.svg\" alt=\"Open In Colab\"/></a>"
      ]
    },
    {
      "cell_type": "markdown",
      "metadata": {
        "id": "mxLcuGKxZKDI"
      },
      "source": [
        "# **2.1.1 VARIABLES**\n",
        "- They are used to store data values in reserved memory locations.\n",
        "- The variables are assigned using an equal sign (=) to a data type.\n",
        "- The basic variables in Python comprises of numbers, lists, tuples, strings, and dictionaries.\n",
        "## **Numbers**\n",
        "\n",
        "The commonly used numbers consist of integers, floating point numbers and complex numbers."
      ]
    },
    {
      "cell_type": "code",
      "execution_count": 1,
      "metadata": {
        "id": "lBiZnjYZZKDL",
        "outputId": "e8e50fff-6010-4fc3-a59f-0712a856c8e0",
        "colab": {
          "base_uri": "https://localhost:8080/"
        }
      },
      "outputs": [
        {
          "output_type": "stream",
          "name": "stdout",
          "text": [
            "1\n",
            "1.0\n",
            "(2+5j)\n"
          ]
        }
      ],
      "source": [
        "mynum = 1# assigning an integer.\n",
        "myfloat = 1.0# assigning a floating point.\n",
        "mycomplex = 2+5j# assigning a complex number.\n",
        "print(mynum)\n",
        "print(myfloat)\n",
        "print(mycomplex)"
      ]
    },
    {
      "cell_type": "markdown",
      "metadata": {
        "id": "LD4hfFxWZKDN"
      },
      "source": [
        "## **Lists** ##\n",
        "\n",
        "It is a collection of ordered elements separated by commas, enclosed in square brackets [ ]."
      ]
    },
    {
      "cell_type": "code",
      "execution_count": null,
      "metadata": {
        "id": "pWTqYSIrZKDN"
      },
      "outputs": [],
      "source": [
        "a_list = [5, 6, 7, 8]# defining a list."
      ]
    },
    {
      "cell_type": "code",
      "execution_count": null,
      "metadata": {
        "id": "mmWUaZ3AZKDN"
      },
      "outputs": [],
      "source": [
        "b_list = ['hai', 3.5, 10]# a list with different data types.\n",
        "c_list = [5.8, [4,5,9], 15]# a nested list.\n"
      ]
    },
    {
      "cell_type": "markdown",
      "metadata": {
        "id": "2C6CruFgZKDO"
      },
      "source": [
        "### **Extracting specific index values from a list** ###"
      ]
    },
    {
      "cell_type": "code",
      "execution_count": null,
      "metadata": {
        "id": "w2kY_xohZKDO",
        "outputId": "9fc329ad-f26a-40f3-f769-c3df0af74dca"
      },
      "outputs": [
        {
          "name": "stdout",
          "output_type": "stream",
          "text": [
            "5\n",
            "7\n",
            "[3, 5]\n",
            "12\n"
          ]
        }
      ],
      "source": [
        "d_list = [1,3,5,7]\n",
        "print(d_list[2])# outputs the value 5.\n",
        "print(d_list[-1])# outputs the value 7.\n",
        "print(d_list[1:3])# output values [3, 5, 7].\n",
        "e_list = [1,4,[8,12]]\n",
        "print(e_list[2][1])# outputs the value 12 from the nested list.\n"
      ]
    },
    {
      "cell_type": "code",
      "execution_count": null,
      "metadata": {
        "id": "-4msnVQLZKDO",
        "outputId": "0986b504-4752-4b4a-8940-a2dadc7a21ca"
      },
      "outputs": [
        {
          "name": "stdout",
          "output_type": "stream",
          "text": [
            "['hai', 4, 6, 8, 10]\n"
          ]
        }
      ],
      "source": [
        "f_list = [2, 4, 6, 8, 10]\n",
        "f_list[0]='hai'\n",
        "print(f_list)# outputs the list ['hai', 4, 6, 8, 10].\n"
      ]
    },
    {
      "cell_type": "markdown",
      "metadata": {
        "id": "3zHBSiJPZKDP"
      },
      "source": [
        "### **Add and remove elements from a list** ###"
      ]
    },
    {
      "cell_type": "code",
      "execution_count": null,
      "metadata": {
        "id": "rc_-2GNTZKDP",
        "outputId": "591658ea-e85c-4fdd-c335-987c55c64c28"
      },
      "outputs": [
        {
          "name": "stdout",
          "output_type": "stream",
          "text": [
            "[10, 20, 30, 'first']\n",
            "[10, 30, 'first']\n"
          ]
        }
      ],
      "source": [
        "g_list = [10, 20, 30, 'first', 'second']\n",
        "del g_list[4]\n",
        "print(g_list)# outputs the list [10, 20, 30, 'first'].\n",
        "g_list.remove(20)\n",
        "print(g_list)# it removes 20 and prints the rest of the list  [10, 30, 'first', 'second']\n",
        "h_list = [1, 2, 3]\n",
        "h_list.extend([4,5])# add each element to the list and extends the list . The output list is [1, 2, 3, 4, 5].\n",
        "h_list.append([4,5])# adds one element to the end of the list. The output list will be [1, 2, 3, [4, 5]].\n"
      ]
    },
    {
      "cell_type": "markdown",
      "metadata": {
        "id": "xFXvviHEZKDQ"
      },
      "source": [
        "## **Tuples** ##\n",
        "- All the elements of a tuple are placed inside parenthesis ( ) separated by commas.\n",
        "- A tuple consists of ordered elements and it also allows different data types as its elements."
      ]
    },
    {
      "cell_type": "code",
      "execution_count": null,
      "metadata": {
        "id": "TOc3RFICZKDQ",
        "outputId": "8005da9a-3521-46d6-b5ae-cfbc424fe035"
      },
      "outputs": [
        {
          "name": "stdout",
          "output_type": "stream",
          "text": [
            "104\n",
            "120\n"
          ]
        }
      ],
      "source": [
        "import sys\n",
        "tuple_one = (3,6,7,1.9, 'hai', [3,4], (8,10,12))# defining a tuple.\n",
        "list_one = [3,6,7,1.9, 'hai', [3,4], (8,10,12)]# defining a list.\n",
        "print(sys.getsizeof(tuple_one)) #outputs the size of tuple in bytes.\n",
        "print(sys.getsizeof(list_one)) #outputs the size of list in bytes."
      ]
    },
    {
      "cell_type": "markdown",
      "metadata": {
        "id": "e20zbb6_ZKDR"
      },
      "source": [
        "### **Extracting specific index values from a tuple** ###"
      ]
    },
    {
      "cell_type": "code",
      "execution_count": null,
      "metadata": {
        "id": "vldO5aQBZKDR",
        "outputId": "760790a2-c76f-4854-ff6b-3bafb72bbd33"
      },
      "outputs": [
        {
          "name": "stdout",
          "output_type": "stream",
          "text": [
            "4\n",
            "3\n",
            "5\n",
            "(8, 9)\n"
          ]
        },
        {
          "ename": "TypeError",
          "evalue": "'tuple' object does not support item assignment",
          "output_type": "error",
          "traceback": [
            "\u001b[1;31m---------------------------------------------------------------------------\u001b[0m",
            "\u001b[1;31mTypeError\u001b[0m                                 Traceback (most recent call last)",
            "\u001b[1;32m<ipython-input-8-6fcb2bbceee4>\u001b[0m in \u001b[0;36m<module>\u001b[1;34m\u001b[0m\n\u001b[0;32m      6\u001b[0m \u001b[0mprint\u001b[0m\u001b[1;33m(\u001b[0m\u001b[0mtuple_three\u001b[0m\u001b[1;33m[\u001b[0m\u001b[1;36m0\u001b[0m\u001b[1;33m]\u001b[0m\u001b[1;33m)\u001b[0m \u001b[1;31m# outputs 5\u001b[0m\u001b[1;33m\u001b[0m\u001b[1;33m\u001b[0m\u001b[0m\n\u001b[0;32m      7\u001b[0m \u001b[0mprint\u001b[0m\u001b[1;33m(\u001b[0m\u001b[0mtuple_three\u001b[0m\u001b[1;33m[\u001b[0m\u001b[1;36m3\u001b[0m\u001b[1;33m:\u001b[0m\u001b[1;36m5\u001b[0m\u001b[1;33m]\u001b[0m\u001b[1;33m)\u001b[0m \u001b[1;31m# outputs (8, 9, 10)\u001b[0m\u001b[1;33m\u001b[0m\u001b[1;33m\u001b[0m\u001b[0m\n\u001b[1;32m----> 8\u001b[1;33m \u001b[0mtuple_three\u001b[0m\u001b[1;33m[\u001b[0m\u001b[1;36m0\u001b[0m\u001b[1;33m]\u001b[0m\u001b[1;33m=\u001b[0m\u001b[1;36m2\u001b[0m \u001b[1;31m# It causes an error since the elements in a tuple cannot be changed once its created.\u001b[0m\u001b[1;33m\u001b[0m\u001b[1;33m\u001b[0m\u001b[0m\n\u001b[0m",
            "\u001b[1;31mTypeError\u001b[0m: 'tuple' object does not support item assignment"
          ]
        }
      ],
      "source": [
        "tuple_two= 4, 3\n",
        "u,v=tuple_two\n",
        "print(u)# outputs 4.\n",
        "print(v)# outputs 3.\n",
        "tuple_three = (5,6,7, 8, 9,10, 11)\n",
        "print(tuple_three[0])# outputs 5.\n",
        "print(tuple_three[3:5])# outputs (8, 9, 10).\n",
        "tuple_three[0] = 2# It causes an error since the elements in a tuple cannot be changed once its created.\n"
      ]
    },
    {
      "cell_type": "markdown",
      "metadata": {
        "id": "EoGps5uJZKDR"
      },
      "source": [
        "## **Strings** ##\n",
        "- These are sequences of characters enclosed using single or double quotes.\n",
        "- The character at each index position can be extracted by using square brackets [ ]."
      ]
    },
    {
      "cell_type": "code",
      "execution_count": null,
      "metadata": {
        "id": "N4sdAN-fZKDR"
      },
      "outputs": [],
      "source": [
        "a = 'hai'# defining a string\n",
        "b = \"hai\"\n"
      ]
    },
    {
      "cell_type": "markdown",
      "metadata": {
        "id": "dNeYk56WZKDS"
      },
      "source": [
        "### **Extracting specific index values from a string** ###"
      ]
    },
    {
      "cell_type": "code",
      "execution_count": null,
      "metadata": {
        "id": "ANYODmlvZKDS",
        "outputId": "e05e48ce-3a09-43d4-e8a6-41958cdd7742"
      },
      "outputs": [
        {
          "name": "stdout",
          "output_type": "stream",
          "text": [
            "welcomeall\n"
          ]
        }
      ],
      "source": [
        "str_one = 'welcome'\n",
        "str_two = 'all'\n",
        "str_three = str_two[0]# extracts the character 'a' in the zeroth position.\n",
        "str_four = str_one + str_two\n",
        "print(str_four)# outputs the concatenation of two strings 'welcomeall'."
      ]
    },
    {
      "cell_type": "markdown",
      "metadata": {
        "id": "rTjTqoaVZKDS"
      },
      "source": [
        "## **Sets** ##\n",
        "- It represents a group of unordered elements separated by commas inside curly braces { } without any duplicates.\n",
        "- A set can have any number of elements belonging to different immutable data types (integer, float, string, tuple, boolean) whereas mutable data types (lists, dictionaries, sets) generate an error.\n",
        "- It does not allow slicing and indexing since there is no order associated with the elements."
      ]
    },
    {
      "cell_type": "code",
      "execution_count": null,
      "metadata": {
        "id": "2_WCEfKJZKDS",
        "outputId": "3fa8164e-3868-49b6-ba0c-dece750c8ab4"
      },
      "outputs": [
        {
          "ename": "TypeError",
          "evalue": "unhashable type: 'list'",
          "output_type": "error",
          "traceback": [
            "\u001b[1;31m---------------------------------------------------------------------------\u001b[0m",
            "\u001b[1;31mTypeError\u001b[0m                                 Traceback (most recent call last)",
            "\u001b[1;32m<ipython-input-10-961b632e26fe>\u001b[0m in \u001b[0;36m<module>\u001b[1;34m\u001b[0m\n\u001b[0;32m      1\u001b[0m \u001b[0mset_item\u001b[0m\u001b[1;33m=\u001b[0m\u001b[1;33m{\u001b[0m\u001b[1;36m3\u001b[0m\u001b[1;33m,\u001b[0m\u001b[1;36m66\u001b[0m\u001b[1;33m,\u001b[0m\u001b[1;36m87\u001b[0m\u001b[1;33m,\u001b[0m\u001b[1;36m5\u001b[0m\u001b[1;33m,\u001b[0m\u001b[1;36m448\u001b[0m\u001b[1;33m}\u001b[0m\u001b[1;33m\u001b[0m\u001b[1;33m\u001b[0m\u001b[0m\n\u001b[0;32m      2\u001b[0m \u001b[0mset_item1\u001b[0m\u001b[1;33m=\u001b[0m\u001b[1;33m{\u001b[0m\u001b[1;36m5\u001b[0m\u001b[1;33m,\u001b[0m \u001b[1;36m4.2\u001b[0m\u001b[1;33m,\u001b[0m \u001b[1;34m'hai'\u001b[0m\u001b[1;33m,\u001b[0m \u001b[1;32mTrue\u001b[0m\u001b[1;33m,\u001b[0m \u001b[1;33m(\u001b[0m\u001b[1;36m1\u001b[0m\u001b[1;33m,\u001b[0m \u001b[1;36m2\u001b[0m\u001b[1;33m,\u001b[0m \u001b[1;36m3\u001b[0m\u001b[1;33m)\u001b[0m\u001b[1;33m}\u001b[0m \u001b[1;31m#set with immutable data types\u001b[0m\u001b[1;33m\u001b[0m\u001b[1;33m\u001b[0m\u001b[0m\n\u001b[1;32m----> 3\u001b[1;33m \u001b[0mset_item2\u001b[0m\u001b[1;33m=\u001b[0m \u001b[1;33m{\u001b[0m\u001b[1;36m1\u001b[0m\u001b[1;33m,\u001b[0m \u001b[1;36m4\u001b[0m\u001b[1;33m,\u001b[0m \u001b[1;33m[\u001b[0m\u001b[1;36m7\u001b[0m\u001b[1;33m,\u001b[0m \u001b[1;36m9\u001b[0m\u001b[1;33m]\u001b[0m\u001b[1;33m}\u001b[0m \u001b[1;31m# Here [7,9] is a list which is a mutable data type and hence it will cause an error.\u001b[0m\u001b[1;33m\u001b[0m\u001b[1;33m\u001b[0m\u001b[0m\n\u001b[0m",
            "\u001b[1;31mTypeError\u001b[0m: unhashable type: 'list'"
          ]
        }
      ],
      "source": [
        "set_item = {3,66,87,5,448}# defining a set.\n",
        "set_item1 = {5, 4.2, 'hai', True, (1, 2, 3)}# set with immutable data types.\n",
        "set_item2 = {1, 4, [7, 9]}# Here [7,9] is a list which is a mutable data type and hence it will cause an error.\n"
      ]
    },
    {
      "cell_type": "markdown",
      "metadata": {
        "id": "ZyAQrteMZKDT"
      },
      "source": [
        "## **Dictionaries** ##\n",
        "- It is a collection of elements represented as key-value pairs separated using the colon operator and placed inside curly braces { }.\n",
        "- Each element is separated by commas and has a key and a corresponding value associated with it.\n",
        "- The curly braces without any elements correspond to an empty dictionary."
      ]
    },
    {
      "cell_type": "code",
      "execution_count": null,
      "metadata": {
        "id": "NRcGeXcJZKDT"
      },
      "outputs": [],
      "source": [
        "diction = {'number':23, 'name':'Tom','age': 16}# defining a dictionary\n",
        "the_diction = {}# empty dictionary\n"
      ]
    },
    {
      "cell_type": "code",
      "execution_count": null,
      "metadata": {
        "id": "ylgwS794ZKDT",
        "outputId": "771b298c-f38f-463e-cb43-08ca74a8b14e"
      },
      "outputs": [
        {
          "name": "stdout",
          "output_type": "stream",
          "text": [
            "16\n",
            "{'number': 23, 'name': 'Harry', 'age': 16}\n",
            "{'number': 23, 'name': 'Harry'}\n",
            "Harry\n"
          ]
        }
      ],
      "source": [
        "print(diction['age'])# outputs the corresponding value, which is 16.\n",
        "diction['name'] = 'Harry'\n",
        "print(diction)# outputs the new dictionary {'number':23,'name':'Harry','age': 16}.\n",
        "del diction['age']\n",
        "print(diction)# outputs the new dictionary {'number':23,'name':'Harry'}.\n",
        "print(diction.pop('name'))# outputs 'Harry' and removes it from the dictionary.\n"
      ]
    },
    {
      "cell_type": "markdown",
      "metadata": {
        "id": "LfoQLx2qZKDT"
      },
      "source": [
        "## **Example 2.1.1** ##\n",
        "In this example, we learn how to manipulate lists and dictionaries.\n",
        "\n"
      ]
    },
    {
      "cell_type": "markdown",
      "metadata": {
        "id": "vaC-UaP5ZKDU"
      },
      "source": [
        "Create a list, t1=['Germany', 'George', 'Sam', 'Italy', 30, 90].\n",
        "- Extract the zeroth, second and fifth element from the given list and print them\n",
        "- Add these elements to the keys in the the dictionary, diction1 = {'Country': [ ],'Name': [ ],'Age': [ ]}and print the dictionary."
      ]
    },
    {
      "cell_type": "code",
      "execution_count": null,
      "metadata": {
        "id": "2KWeIgLDZKDU",
        "outputId": "246aa22c-07cf-4c03-865e-315fb97ecdcf"
      },
      "outputs": [
        {
          "name": "stdout",
          "output_type": "stream",
          "text": [
            "Germany\n",
            "Sam\n",
            "90\n"
          ]
        }
      ],
      "source": [
        "t1=['Germany', 'George', 'Sam', 'Italy', 30, 90]\n",
        "a = t1[0]\n",
        "b = t1[2]\n",
        "c = t1[5]\n",
        "print(a)\n",
        "print(b)\n",
        "print(c)"
      ]
    },
    {
      "cell_type": "code",
      "execution_count": null,
      "metadata": {
        "id": "U75KE7HdZKDU",
        "outputId": "1f28ff13-aee6-4985-e4c2-2c82ec3e1275"
      },
      "outputs": [
        {
          "name": "stdout",
          "output_type": "stream",
          "text": [
            "{'Country': ['Germany'], 'Name': ['Sam'], 'Age': [90]}\n"
          ]
        }
      ],
      "source": [
        "diction1 = {'Country': [ ],'Name': [ ],'Age': [ ]}\n",
        "diction1['Country'].append(a)\n",
        "diction1['Name'].append(b)\n",
        "diction1['Age'].append(c)\n",
        "print(diction1)"
      ]
    },
    {
      "cell_type": "markdown",
      "metadata": {
        "id": "g3YHFKwlZKDU"
      },
      "source": [
        "## **2.1.2 STATEMENTS** ##\n",
        "- Statements are the executable instructions written in the python source code.\n",
        "- The different types of statements include print statements, assignment statements, conditional statements, etc.\n",
        "- Multiline statements represents the line continuation using parentheses ( ), braces { }, square brackets [ ], semi-colon ;, continuation character slash \\."
      ]
    },
    {
      "cell_type": "code",
      "execution_count": null,
      "metadata": {
        "id": "49UMbAmZZKDU",
        "outputId": "f8fa842c-149d-487f-f5af-f58e05c0ade4"
      },
      "outputs": [
        {
          "name": "stdout",
          "output_type": "stream",
          "text": [
            "Welcome\n"
          ]
        }
      ],
      "source": [
        "print('Welcome') #print statement\n",
        "a = 10 #assignment statement\n",
        "b = 1 + 2 + 3 + \\\n",
        "5 + 6 + 7 + \\\n",
        "8 + 4 #multiline statement\n",
        "elements = ['air','water', 'earth',\n",
        "'wind', 'fire']\n"
      ]
    },
    {
      "cell_type": "markdown",
      "metadata": {
        "id": "I0D__UmuZKDU"
      },
      "source": [
        "## **INDENTATION** ##\n",
        "- A block consists of a group of statements used for a defined task.Python uses indentation to indicate this block of code.\n",
        "- Python uses whitespaces to indent the statements.\n",
        "- The indentation moves the statements to the right using the same number of whitespaces for the same block of code."
      ]
    },
    {
      "cell_type": "code",
      "execution_count": null,
      "metadata": {
        "id": "ZNJcydrrZKDV",
        "outputId": "a696329a-a7bc-432e-b3af-ff84a25406af"
      },
      "outputs": [
        {
          "name": "stdout",
          "output_type": "stream",
          "text": [
            "Positive number\n"
          ]
        }
      ],
      "source": [
        "if a < 0:\n",
        "    print('Negative number')\n",
        "elif a == 0:\n",
        "    print('Neither positive nor negative')\n",
        "else:\n",
        "    print('Positive number')\n"
      ]
    },
    {
      "cell_type": "code",
      "execution_count": null,
      "metadata": {
        "id": "rVDr8PRrZKDV",
        "outputId": "49d07e44-23fe-4b8b-c9b7-d29cce37a5ea"
      },
      "outputs": [
        {
          "ename": "IndentationError",
          "evalue": "unexpected indent (<ipython-input-29-bd60bb160c07>, line 3)",
          "output_type": "error",
          "traceback": [
            "\u001b[1;36m  File \u001b[1;32m\"<ipython-input-29-bd60bb160c07>\"\u001b[1;36m, line \u001b[1;32m3\u001b[0m\n\u001b[1;33m    print('10 is a multiple of 2') # Indentation error\u001b[0m\n\u001b[1;37m    ^\u001b[0m\n\u001b[1;31mIndentationError\u001b[0m\u001b[1;31m:\u001b[0m unexpected indent\n"
          ]
        }
      ],
      "source": [
        "if 10 % 2 == 0:\n",
        "    print('10 is divisible by 2')\n",
        "        print('10 is a multiple of 2') #Indentation error\n"
      ]
    },
    {
      "cell_type": "markdown",
      "metadata": {
        "id": "QWWe2u4fZKDV"
      },
      "source": [
        "## **COMMENTS** ##\n",
        "- Single-line comments are denoted using the hash symbol # whereas, for multiline comments, the # is used before each line.  \n",
        "- A multiline string enclosed in triple quotes either ''' or \"\"\" is yet another way to represent multiline comments."
      ]
    },
    {
      "cell_type": "code",
      "execution_count": null,
      "metadata": {
        "id": "ELh8SXziZKDV",
        "outputId": "84c04842-5dd8-4bcf-fc25-01be4e59112a"
      },
      "outputs": [
        {
          "name": "stdout",
          "output_type": "stream",
          "text": [
            "Welcome to Python Coding\n",
            "Welcome to Python Coding\n"
          ]
        }
      ],
      "source": [
        "#The hash symbol is used for single-line comments.\n",
        "print('Welcome to Python Coding')\n",
        "\"\"\"\n",
        "The triple quotes denote a multiline comment. It is commonly used when we need to give a brief description of the code.\n",
        "\"\"\"\n",
        "print('Welcome to Python Coding')\n"
      ]
    },
    {
      "cell_type": "markdown",
      "metadata": {
        "id": "EteMBmlOZKDV"
      },
      "source": [
        "## **2.1.3 CONDITIONAL STATEMENTS** ##\n",
        "- Conditional statements are used for evaluating certain decisions while executing a program.\n",
        "- The ‘if’ statement is used to evaluate whether the boolean expression is True or False. When the statement is False, the else or the elif statement is executed."
      ]
    },
    {
      "cell_type": "code",
      "execution_count": null,
      "metadata": {
        "id": "WT4V4xUCZKDW",
        "outputId": "ad2c431c-3194-44ab-90ab-ba724f7b2027"
      },
      "outputs": [
        {
          "name": "stdout",
          "output_type": "stream",
          "text": [
            "Neither prime nor composite number\n"
          ]
        }
      ],
      "source": [
        "a = 1\n",
        "if a == 2:\n",
        "    print('Even prime number')\n",
        "elif a == 3:\n",
        "    print('Odd prime number')\n",
        "else:\n",
        "    print('Neither prime nor composite number')\n"
      ]
    },
    {
      "cell_type": "markdown",
      "metadata": {
        "id": "0e7Q3lvsZKDW"
      },
      "source": [
        "## **2.1.4 LOOPS** ##"
      ]
    },
    {
      "cell_type": "markdown",
      "metadata": {
        "id": "MZoM25sVZKDW"
      },
      "source": [
        "### **For Loop** ###"
      ]
    },
    {
      "cell_type": "code",
      "execution_count": null,
      "metadata": {
        "id": "kiY4mfDfZKDW",
        "outputId": "88be1bbf-d7b5-480f-ba7b-7956fab1cb0a"
      },
      "outputs": [
        {
          "name": "stdout",
          "output_type": "stream",
          "text": [
            "0\n",
            "1\n",
            "2\n",
            "3\n"
          ]
        }
      ],
      "source": [
        "for i in range(4):\n",
        "    print(i) # outputs the numbers 0,1,2 and 3.\n"
      ]
    },
    {
      "cell_type": "code",
      "execution_count": null,
      "metadata": {
        "id": "oOOZ_VHtZKDW",
        "outputId": "b15e998e-9ff1-48db-a4b6-1c069030dd43"
      },
      "outputs": [
        {
          "name": "stdout",
          "output_type": "stream",
          "text": [
            "6\n",
            "7\n",
            "8\n",
            "9\n"
          ]
        }
      ],
      "source": [
        "for j in range(6,10):\n",
        "    print(j) # outputs the numbers 6,7,8 and 9.\n"
      ]
    },
    {
      "cell_type": "code",
      "execution_count": null,
      "metadata": {
        "id": "Ks30H_ehZKDX",
        "outputId": "59c8e9f2-07b6-491d-bba7-6b2deb134b0e"
      },
      "outputs": [
        {
          "name": "stdout",
          "output_type": "stream",
          "text": [
            "2\n",
            "5\n",
            "8\n"
          ]
        }
      ],
      "source": [
        "for k in range(2,10,3):\n",
        "    print(k) # outputs the numbers 2,5 and 8 since the range arguments consist of the start number, stop number, and the increment value.\n"
      ]
    },
    {
      "cell_type": "markdown",
      "metadata": {
        "id": "-dJEr6_BZKDX"
      },
      "source": [
        "### **While Loop** ###"
      ]
    },
    {
      "cell_type": "code",
      "execution_count": null,
      "metadata": {
        "id": "UssmG4BdZKDX",
        "outputId": "534c1702-14ef-4369-8b3b-3e91f5d331d6"
      },
      "outputs": [
        {
          "name": "stdout",
          "output_type": "stream",
          "text": [
            "1\n",
            "2\n",
            "3\n",
            "4\n",
            "5\n"
          ]
        }
      ],
      "source": [
        "a = 1\n",
        "while a <= 5:\n",
        "    print(a) #outputs numbers 1, 2, 3, 4 and 5\n",
        "    a = a+1"
      ]
    },
    {
      "cell_type": "code",
      "execution_count": null,
      "metadata": {
        "id": "CErn9i5gZKDX",
        "outputId": "6e5040a8-86c6-4278-bfe8-b51a25b24ff5"
      },
      "outputs": [
        {
          "name": "stdout",
          "output_type": "stream",
          "text": [
            "2\n",
            "4\n"
          ]
        }
      ],
      "source": [
        "num = [2,4,6,8,10]\n",
        "for i in num:\n",
        "    if i == 6:\n",
        "        break\n",
        "    print(i) #outputs numbers 2 and 4."
      ]
    },
    {
      "cell_type": "code",
      "execution_count": null,
      "metadata": {
        "id": "cHm-WfIHZKDX",
        "outputId": "8f4da692-ce20-403e-c101-837a9fe3e768"
      },
      "outputs": [
        {
          "name": "stdout",
          "output_type": "stream",
          "text": [
            "0\n",
            "1\n",
            "2\n",
            "4\n"
          ]
        }
      ],
      "source": [
        "for k in range(5):\n",
        "    if k == 3:\n",
        "        continue\n",
        "    print(k)# outputs numbers 0,1,2,4"
      ]
    },
    {
      "cell_type": "code",
      "execution_count": null,
      "metadata": {
        "id": "nRUNLGEgZKDY"
      },
      "outputs": [],
      "source": [
        "seq = ['h','e','l','l','o']\n",
        "for j in seq:\n",
        "    pass #acts as a placeholder for code that will be implemented in the future since an empty for loop can generate an error."
      ]
    },
    {
      "cell_type": "markdown",
      "metadata": {
        "id": "5NettgxAZKDY"
      },
      "source": [
        "## **Example 2.1.2** ##\n",
        "In this example, we learn how to use nested for loops.\n"
      ]
    },
    {
      "cell_type": "markdown",
      "metadata": {
        "id": "skQNggkwZKDY"
      },
      "source": [
        "Use a nested 'for' loop to create a full diamond of stars '*'. Initialize n = 5 to create the diamond pattern."
      ]
    },
    {
      "cell_type": "code",
      "execution_count": null,
      "metadata": {
        "id": "Vc77jaSwZKDY",
        "outputId": "a8cba87d-f564-461d-bc60-dcc25ff33b99"
      },
      "outputs": [
        {
          "name": "stdout",
          "output_type": "stream",
          "text": [
            "      \n",
            "    * \n",
            "   *** \n",
            "  ***** \n",
            " ******* \n",
            "********* \n",
            " ******* \n",
            "  ***** \n",
            "   *** \n",
            "    * \n"
          ]
        }
      ],
      "source": [
        "n=5;\n",
        "\n",
        "for i in range(n):\n",
        "    for j in range(i, n):\n",
        "        print (' ', end=\"\")\n",
        "\n",
        "    for k in range(2*i-1):\n",
        "        print ('*', end=\"\")\n",
        "    print(' ')\n",
        "\n",
        "for i in range(n,0,-1):\n",
        "    for j in range(i, n):\n",
        "        print (' ', end=\"\")\n",
        "\n",
        "    for k in range(2*i-1):\n",
        "        print ('*', end=\"\")\n",
        "    print(' ')\n",
        ""
      ]
    },
    {
      "cell_type": "markdown",
      "metadata": {
        "id": "D3ukjz9uZKDY"
      },
      "source": [
        "## **2.1.5 FUNCTIONS** ##"
      ]
    },
    {
      "cell_type": "code",
      "execution_count": null,
      "metadata": {
        "id": "XZnTf_0dZKDY",
        "outputId": "d471abcd-8a4a-4eb6-c706-20c62d53a2fb"
      },
      "outputs": [
        {
          "name": "stdout",
          "output_type": "stream",
          "text": [
            "50\n"
          ]
        }
      ],
      "source": [
        "def addition(a,b): #function name and parameters.\n",
        "    out = a+b #function body.\n",
        "    return  out #return value of the function.\n",
        "a = 10\n",
        "b = 40\n",
        "out = addition(a,b)\n",
        "print(out) #outputs the number 50.\n"
      ]
    },
    {
      "cell_type": "code",
      "execution_count": null,
      "metadata": {
        "id": "QRjaHtZOZKDZ",
        "outputId": "8323ac4d-e85c-47e1-e6db-802424856afe"
      },
      "outputs": [
        {
          "name": "stdout",
          "output_type": "stream",
          "text": [
            "Harry\n",
            "Harrison\n"
          ]
        }
      ],
      "source": [
        "global_name = 'Harrison' #variable with global scope.\n",
        "def new_func():\n",
        "    local_name = 'Harry'#variable with local scope.\n",
        "    print(local_name)\n",
        "new_func() #outputs Harry.\n",
        "print(global_name) #outputs Harrison.\n"
      ]
    },
    {
      "cell_type": "markdown",
      "metadata": {
        "id": "Joa6gH99ZKDZ"
      },
      "source": [
        "## **2.1.6 CLASSES AND OBJECTS** ##\n",
        "- Python uses an object-oriented programming model to design and represent a program using objects and classes.\n",
        "- A class is a user-defined design of the object whereas an object is a group of variables and functions which forms an instance of the class.\n",
        "- The body of a class consist of two main elements:\n",
        "1. Attributes: It correspond to the properties of an object and methods are the functions that represent the behaviors of an object. For example, we can define class as a prototype of a smartphone, that has different attributes such as brand, color, camera, storage, etc.\n",
        "2. Methods: It denotes the activities carried out using a smartphone such as making phone calls, sending text messages, playing games, etc and the object corresponds to the smartphone."
      ]
    },
    {
      "cell_type": "code",
      "execution_count": null,
      "metadata": {
        "id": "t4MR_Q4XZKDZ",
        "outputId": "dcd7b924-8073-4372-bc3b-76e3b2a89f56"
      },
      "outputs": [
        {
          "name": "stdout",
          "output_type": "stream",
          "text": [
            "EyePhone\n",
            "256\n",
            "EyePhone : Average Storage\n"
          ]
        }
      ],
      "source": [
        "class Smartphone: #Defining the object.\n",
        "    def __init__(self, brand,storage):\n",
        "        self.brand=brand #Attribute defining the property of the object.\n",
        "        self.storage=storage #Attribute defining the property of the object.\n",
        "\n",
        "    def capacity(self): #Method defining the behaviour of the object.\n",
        "        if self.storage >= 512:\n",
        "            return 'Large Storage'\n",
        "        elif (self.storage < 512) & (self.storage > 128):\n",
        "            return 'Average Storage'\n",
        "        else:\n",
        "            return 'Low Storage'\n",
        "phone1 = Smartphone('EyePhone',256)\n",
        "space = phone1.capacity()\n",
        "\n",
        "print(phone1.brand) #outputs 'EyePhone'.\n",
        "print(phone1.storage) #outputs 256.\n",
        "print(phone1.brand, \":\",space) #outputs EyePhone : Average Storage."
      ]
    },
    {
      "cell_type": "markdown",
      "metadata": {
        "id": "967rsJmSZKDZ"
      },
      "source": [
        "## **Example 2.1.3** ##\n",
        "Defining datasets using classes."
      ]
    },
    {
      "cell_type": "code",
      "execution_count": null,
      "metadata": {
        "id": "IJZSLNrqZKDZ",
        "colab": {
          "base_uri": "https://localhost:8080/"
        },
        "outputId": "12652c29-3f73-4082-ef64-ad849e47ade1"
      },
      "outputs": [
        {
          "output_type": "stream",
          "name": "stdout",
          "text": [
            "(2, 400) (1, 400) (2, 200) (1, 200)\n"
          ]
        }
      ],
      "source": [
        "import numpy as np\n",
        "\n",
        "class Data:\n",
        "    def __init__(self, N, sigma):\n",
        "        self.N=N #Number of data per cluster.\n",
        "        self.sigma=sigma #standard deviation of the clusters.\n",
        "\n",
        "    def data_xor(self, classes):\n",
        "    # Generate 4*N random vectors (gaussian) centered around zero.\n",
        "        X=self.sigma*np.random.randn(2,4*self.N)\n",
        "        mean=np.array([[-1,-1, 1, 1],[-1,1,-1,1]]) # define four means\n",
        "        M=np.ones((self.N,2))*mean[:,0] # Means of the first cluster\n",
        "        y=np.ones((1,self.N))*classes[0] # Labels of the first cluster\n",
        "        for i in range(1,4):\n",
        "            m=np.ones((self.N,2))*mean[:,i] # Means of cluster i\n",
        "            M=np.concatenate((M,m))     #Concatenate all means\n",
        "            y=np.concatenate((y,np.ones((1,self.N))*classes[i]),axis=1) # concatenate labels\n",
        "        M=M.T\n",
        "        X=X+M # Add means to the data.\n",
        "        return X,y\n",
        "\n",
        "    def data_circle(self):\n",
        "        theta=np.random.rand(1,self.N)*np.pi*2\n",
        "        rho=np.random.randn(1,self.N)*self.sigma+1\n",
        "        X1=rho*np.block([[np.cos(theta)],[np.sin(theta)]]) #circular data corresponding to class 1\n",
        "\n",
        "        theta=np.random.rand(1,self.N)*2*np.pi\n",
        "        rho=np.random.randn(1,self.N)*self.sigma+0.8\n",
        "        X2=rho*np.block([[np.cos(theta)],[np.sin(theta)]])\n",
        "\n",
        "        y=np.concatenate((0*np.ones((1,self.N)),np.ones((1,self.N))),axis=1) # labels\n",
        "        X=np.concatenate((X1,X2),axis=1)\n",
        "        return X,y\n",
        "#The class definition ends here.\n",
        "\n",
        "np.random.seed(30) # allows to reproduce the same results\n",
        "N=100; sigma=0.6 #attributes for xor.\n",
        "N1=250; sigma1=0.05 #attributes for circle.\n",
        "classes=[0,1,1,0] #attribute for xor.\n",
        "T=Data(N,sigma) #define the object corresponding to xor data.\n",
        "T1=Data(N1,sigma1) #define the object corresponding to circle data.\n",
        "X,y=T.data_xor(classes) #method with instance variable classes.\n",
        "X1,y1=T.data_circle() #method without any instance variable.\n",
        "print(X.shape,y.shape,X1.shape,y1.shape)"
      ]
    }
  ],
  "metadata": {
    "kernelspec": {
      "display_name": "Python 3",
      "language": "python",
      "name": "python3"
    },
    "language_info": {
      "codemirror_mode": {
        "name": "ipython",
        "version": 3
      },
      "file_extension": ".py",
      "mimetype": "text/x-python",
      "name": "python",
      "nbconvert_exporter": "python",
      "pygments_lexer": "ipython3",
      "version": "3.7.6"
    },
    "colab": {
      "provenance": [],
      "include_colab_link": true
    }
  },
  "nbformat": 4,
  "nbformat_minor": 0
}